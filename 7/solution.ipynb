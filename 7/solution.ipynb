{
 "cells": [
  {
   "cell_type": "code",
   "execution_count": 26,
   "id": "a6f3e206-e7c1-4c40-b470-27c8cee168a2",
   "metadata": {},
   "outputs": [],
   "source": [
    "import sys\n",
    "from datetime import datetime"
   ]
  },
  {
   "cell_type": "code",
   "execution_count": 85,
   "id": "2866b0e6-e854-404c-9bdc-72e3203958e9",
   "metadata": {},
   "outputs": [],
   "source": [
    "sep = '\\t'\n",
    "\n",
    "stationsInput = sc.textFile(\"input/stations.csv\")\n",
    "registerInput = sc.textFile(\"input/registerSample.csv\")"
   ]
  },
  {
   "cell_type": "code",
   "execution_count": 86,
   "id": "ea1ee1fa-93bd-42f2-8a28-bba6badb6163",
   "metadata": {},
   "outputs": [],
   "source": [
    "#remove headers of both files\n",
    "stationsInput = stationsInput.filter(lambda x: \"id\" not in x)\n",
    "registerInput = registerInput.filter(lambda x: \"station\" not in x)"
   ]
  },
  {
   "cell_type": "code",
   "execution_count": 87,
   "id": "8de8c1ef-4a79-484e-bac9-b42445958bc4",
   "metadata": {},
   "outputs": [],
   "source": [
    "crit_thres = 0.4\n",
    "\n",
    "def filterStations(line):\n",
    "    #stationId\\ttimestamp\\tusedslots\\tfreeslots\n",
    "    fields = line.split(sep)\n",
    "    if (fields[2] == '0' and fields[3] == '0'):\n",
    "        return False\n",
    "    return True\n",
    "\n",
    "registerRDD = registerInput.filter(filterStations).cache()"
   ]
  },
  {
   "cell_type": "code",
   "execution_count": 88,
   "id": "2f0e727b-57ff-4989-9d4e-79409a36ada7",
   "metadata": {},
   "outputs": [
    {
     "name": "stderr",
     "output_type": "stream",
     "text": [
      "                                                                                \r"
     ]
    },
    {
     "data": {
      "text/plain": [
       "['1\\t2008-05-15 12:01:00\\t0\\t18',\n",
       " '1\\t2008-05-15 12:02:00\\t0\\t18',\n",
       " '1\\t2008-05-15 12:04:00\\t0\\t18',\n",
       " '1\\t2008-05-15 12:06:00\\t0\\t18',\n",
       " '1\\t2008-05-15 12:08:00\\t0\\t18']"
      ]
     },
     "execution_count": 88,
     "metadata": {},
     "output_type": "execute_result"
    }
   ],
   "source": [
    "registerRDD.collect()[0:5]"
   ]
  },
  {
   "cell_type": "code",
   "execution_count": 89,
   "id": "40202184-7d30-4d89-87dc-bb4655b8b5e2",
   "metadata": {},
   "outputs": [],
   "source": [
    "def mapRegRDD(line):\n",
    "    #stationId\\ttimestamp\\tusedslots\\tfreeslots\n",
    "    #return ((stationId, timestamp), (n, m))\n",
    "    fields = line.split(sep)\n",
    "    date = datetime.strptime(fields[1], \"%Y-%m-%d %H:%M:%S\")\n",
    "    dayOfWeek = date.strftime(\"%A\")\n",
    "    hour = date.hour\n",
    "    timestamp = dayOfWeek + \",\" + str(hour)\n",
    "\n",
    "    #map to ((stationId, timestamp), (n, m))\n",
    "    #if freeslots == 0 -> n=1 otherwise n = 0\n",
    "    #m=1 each time\n",
    "    freeSlots = int(fields[3])\n",
    "    if freeSlots == 0:\n",
    "        return ((fields[0], timestamp), (1, 1))\n",
    "    \n",
    "    return ((fields[0], timestamp), (0, 1))"
   ]
  },
  {
   "cell_type": "code",
   "execution_count": 90,
   "id": "8b9c9ee3-bc92-40bc-beac-dbd6aeccea40",
   "metadata": {},
   "outputs": [],
   "source": [
    "def mapStatRDD(line):\n",
    "    #stationId\\tname\\tlon\\tlat\n",
    "    #return (stationId, (lon, lat))\n",
    "    fields = line.split(sep)\n",
    "    return (fields[0], (float(fields[1]), float(fields[2])))"
   ]
  },
  {
   "cell_type": "code",
   "execution_count": 91,
   "id": "7aa79da5-02d9-4eb3-864b-1071237923fa",
   "metadata": {},
   "outputs": [],
   "source": [
    "stationsRDD = stationsInput.map(mapStatRDD).cache()"
   ]
  },
  {
   "cell_type": "code",
   "execution_count": 92,
   "id": "814dd778-cfe0-4525-8b92-37a9c82bbc79",
   "metadata": {},
   "outputs": [
    {
     "data": {
      "text/plain": [
       "[('1', (2.180019, 41.397978)),\n",
       " ('2', (2.176414, 41.394381)),\n",
       " ('3', (2.181164, 41.39375)),\n",
       " ('4', (2.1814, 41.393364)),\n",
       " ('5', (2.180214, 41.391072))]"
      ]
     },
     "execution_count": 92,
     "metadata": {},
     "output_type": "execute_result"
    }
   ],
   "source": [
    "stationsRDD.collect()[0:5]"
   ]
  },
  {
   "cell_type": "code",
   "execution_count": 93,
   "id": "f77f6c4c-8c41-477e-b910-1d70bc2e39c9",
   "metadata": {},
   "outputs": [],
   "source": [
    "criticalRDD = registerRDD.map(mapRegRDD)\\\n",
    "    .reduceByKey(lambda x, y: (x[0] + y[0], x[1] + y[1]))\\\n",
    "    .mapValues(lambda x: float(x[0]) / float(x[1]))"
   ]
  },
  {
   "cell_type": "code",
   "execution_count": 94,
   "id": "ff58389c-d75a-450d-88b4-dafd68b14191",
   "metadata": {},
   "outputs": [
    {
     "name": "stderr",
     "output_type": "stream",
     "text": [
      "                                                                                \r"
     ]
    },
    {
     "data": {
      "text/plain": [
       "[(('1', 'Thursday,13'), 0.007532956685499058),\n",
       " (('1', 'Thursday,14'), 0.04189435336976321),\n",
       " (('1', 'Thursday,15'), 0.032758620689655175),\n",
       " (('1', 'Thursday,16'), 0.04424778761061947),\n",
       " (('1', 'Thursday,19'), 0.0)]"
      ]
     },
     "execution_count": 94,
     "metadata": {},
     "output_type": "execute_result"
    }
   ],
   "source": [
    "criticalRDD.collect()[0:5]"
   ]
  },
  {
   "cell_type": "code",
   "execution_count": 95,
   "id": "19e08e35-21b8-48c0-96da-910342e704b6",
   "metadata": {},
   "outputs": [],
   "source": [
    " criticalRDD = criticalRDD.filter(lambda x: x[1] >= crit_thres).cache()"
   ]
  },
  {
   "cell_type": "code",
   "execution_count": 96,
   "id": "d8ffeb4c-bfc7-4b27-924d-4dd5b6bef192",
   "metadata": {},
   "outputs": [
    {
     "data": {
      "text/plain": [
       "[(('1', 'Thursday,0'), 0.4581005586592179),\n",
       " (('1', 'Thursday,1'), 0.4329608938547486),\n",
       " (('1', 'Sunday,4'), 0.403899721448468)]"
      ]
     },
     "execution_count": 96,
     "metadata": {},
     "output_type": "execute_result"
    }
   ],
   "source": [
    "criticalRDD.collect()[0:5]"
   ]
  },
  {
   "cell_type": "code",
   "execution_count": 97,
   "id": "19b35c1f-92b5-497a-8ce1-51f19b4b5232",
   "metadata": {},
   "outputs": [],
   "source": [
    "'''\n",
    "now we have ((stationId, timestamp), criticality)\n",
    "we have to select the most critical timestamp for each station\n",
    "If there are two or\n",
    "more timeslots characterized by the highest criticality value for the same station,\n",
    "select only one of those timeslots. Specifically, select the one associated with the\n",
    "earliest hour. If also the hour is the same, consider the lexicographical order of the\n",
    "name of the week day. \n",
    "'''\n",
    "\n",
    "def customReducerByKey(x, y):\n",
    "    #x, y are keys in this format (timestamp, criticality)\n",
    "    if (float(x[1]) > float(y[1])):\n",
    "        return x\n",
    "    elif (float(x[1]) < float(y[1])):\n",
    "        return y\n",
    "    \n",
    "    #if the criticality is the same tehn select the one with the earliest hour\n",
    "    h1 = int(x[0].split(',')[1])\n",
    "    h2 = int(y[0].split(',')[1])\n",
    "    if h1 < h2:\n",
    "        return x\n",
    "    elif h1 > h2:\n",
    "        return y\n",
    "    \n",
    "    #if the hour is the same then consider the lexicographical order of the name of the week day\n",
    "    d1 = x[0].split(',')[0]\n",
    "    d2 = y[0].split(',')[0]\n",
    "    if d1 < d2:\n",
    "        return x\n",
    "    return y"
   ]
  },
  {
   "cell_type": "code",
   "execution_count": 98,
   "id": "1aada3a0-802d-4b33-9f94-8898465d5ee6",
   "metadata": {},
   "outputs": [],
   "source": [
    "#Map criticalRDD to ((stationId, (timestamp, criticality)))\n",
    "#Use custom reducer to select the most critical timestamp for each station\n",
    "#then join with stationsRDD to get the lon, lat for each stations (it's a left join) -> (stationId, ((timestamp, criticality), (lon, lat)))\n",
    "criticalityTSPerStationRDD = criticalRDD.map(lambda t: (t[0][0], (t[0][1], t[1])))\\\n",
    "    .reduceByKey(customReducerByKey)"
   ]
  },
  {
   "cell_type": "code",
   "execution_count": 99,
   "id": "fcc40626-9a0b-4706-8814-0add124cc09e",
   "metadata": {},
   "outputs": [
    {
     "data": {
      "text/plain": [
       "[('1', ('Thursday,0', 0.4581005586592179))]"
      ]
     },
     "execution_count": 99,
     "metadata": {},
     "output_type": "execute_result"
    }
   ],
   "source": [
    "criticalityTSPerStationRDD.collect()"
   ]
  },
  {
   "cell_type": "code",
   "execution_count": 100,
   "id": "e0461212-ff9e-4506-8f45-6f330034ebb5",
   "metadata": {},
   "outputs": [],
   "source": [
    "#Join with the stations table to get long and lat for each station -> (stationId, ((timestamp, criticality), (lon, lat)))\n",
    "criticalityTSPerStationRDD = criticalityTSPerStationRDD.join(stationsRDD)"
   ]
  },
  {
   "cell_type": "code",
   "execution_count": 101,
   "id": "2342797d-f28a-4022-b3d1-4de1452d3bbc",
   "metadata": {},
   "outputs": [
    {
     "data": {
      "text/plain": [
       "[('1', (('Thursday,0', 0.4581005586592179), (2.180019, 41.397978)))]"
      ]
     },
     "execution_count": 101,
     "metadata": {},
     "output_type": "execute_result"
    }
   ],
   "source": [
    "criticalityTSPerStationRDD.collect()"
   ]
  },
  {
   "cell_type": "code",
   "execution_count": 102,
   "id": "26b0c4b9-456a-4581-8a80-32917f07724f",
   "metadata": {},
   "outputs": [],
   "source": [
    "def mapToKMLPlacemark(record):\n",
    "    #record come as: (stationId, ((timestamp, criticality), (lon, lat)))\n",
    "    #return the KML Placemark\n",
    "    '''\n",
    "    <Placemark><name>44</name><ExtendedData><Data\n",
    "    name=\"DayWeek\"><value>Mon</value></Data><Data\n",
    "    name=\"Hour\"><value>3</value></Data><Data\n",
    "    name=\"Criticality\"><value>0.5440729483282675</value></Data></ExtendedData><\n",
    "    Point><coordinates>2.189700,41.379047</coordinates></Point></Placemark>\n",
    "    '''\n",
    "    pl = \"<Placemark><name>\" + record[0] + \"</name><ExtendedData><Data \" + \\\n",
    "        \"name=\\\"DayWeek\\\"><value>\" + record[1][0][0].split(',')[0] + \"</value></Data><Data \" + \\\n",
    "        \"name=\\\"Hour\\\"><value>\" + record[1][0][0].split(',')[1] + \"</value></Data><Data \" + \\\n",
    "        \"name=\\\"Criticality\\\"><value>\" + str(record[1][0][1]) + \"</value></Data></ExtendedData><\" + \\\n",
    "        \"Point><coordinates>\" + str(record[1][1][0]) + \",\" + str(record[1][1][1]) + \"</coordinates></Point></Placemark>\"\n",
    "    \n",
    "    return pl"
   ]
  },
  {
   "cell_type": "code",
   "execution_count": 103,
   "id": "752f9458-8081-48f2-b5a8-516833311d43",
   "metadata": {},
   "outputs": [
    {
     "data": {
      "text/plain": [
       "['<Placemark><name>1</name><ExtendedData><Data name=\"DayWeek\"><value>Thursday</value></Data><Data name=\"Hour\"><value>0</value></Data><Data name=\"Criticality\"><value>0.4581005586592179</value></Data></ExtendedData><Point><coordinates>2.180019,41.397978</coordinates></Point></Placemark>']"
      ]
     },
     "execution_count": 103,
     "metadata": {},
     "output_type": "execute_result"
    }
   ],
   "source": [
    "criticalityTSPerStationRDD.map(mapToKMLPlacemark).collect()"
   ]
  },
  {
   "cell_type": "code",
   "execution_count": null,
   "id": "e9e7e3b5-73a1-43a3-8fd9-93de64c682ee",
   "metadata": {},
   "outputs": [],
   "source": []
  },
  {
   "cell_type": "code",
   "execution_count": null,
   "id": "bd7ba7df-2d0a-42c0-a41b-9c98fecee69b",
   "metadata": {},
   "outputs": [],
   "source": []
  }
 ],
 "metadata": {
  "kernelspec": {
   "display_name": "PySpark (Yarn)",
   "language": "python",
   "name": "pyspark_yarn"
  },
  "language_info": {
   "codemirror_mode": {
    "name": "ipython",
    "version": 3
   },
   "file_extension": ".py",
   "mimetype": "text/x-python",
   "name": "python",
   "nbconvert_exporter": "python",
   "pygments_lexer": "ipython3",
   "version": "3.7.12"
  }
 },
 "nbformat": 4,
 "nbformat_minor": 5
}
